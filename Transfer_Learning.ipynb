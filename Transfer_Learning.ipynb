{
  "nbformat": 4,
  "nbformat_minor": 0,
  "metadata": {
    "colab": {
      "name": "Transfer Learning.ipynb",
      "version": "0.3.2",
      "provenance": [],
      "collapsed_sections": []
    },
    "kernelspec": {
      "display_name": "Python 2",
      "name": "python2"
    },
    "accelerator": "GPU"
  },
  "cells": [
    {
      "cell_type": "code",
      "metadata": {
        "colab_type": "code",
        "id": "1xJZ5glPPCRz",
        "outputId": "e7ceb65c-fbb0-4c7a-cc81-ef1cc595e8a3",
        "colab": {
          "base_uri": "https://localhost:8080/",
          "height": 272
        }
      },
      "source": [
        "import os\n",
        "\n",
        "from tensorflow.keras import layers\n",
        "from tensorflow.keras import Model\n",
        "!wget --no-check-certificate \\\n",
        "    https://storage.googleapis.com/mledu-datasets/inception_v3_weights_tf_dim_ordering_tf_kernels_notop.h5 \\\n",
        "    -O /tmp/inception_v3_weights_tf_dim_ordering_tf_kernels_notop.h5\n",
        "  \n",
        "from tensorflow.keras.applications.inception_v3 import InceptionV3\n",
        "\n",
        "local_weights_file = '/tmp/inception_v3_weights_tf_dim_ordering_tf_kernels_notop.h5'\n",
        "\n",
        "pre_trained_model = InceptionV3(input_shape = (150, 150, 3), \n",
        "                                include_top = False, \n",
        "                                weights = None)\n",
        "\n",
        "pre_trained_model.load_weights(local_weights_file)\n",
        "\n",
        "for layer in pre_trained_model.layers:\n",
        "  layer.trainable = False\n",
        "  \n",
        "# pre_trained_model.summary()\n",
        "\n",
        "last_layer = pre_trained_model.get_layer('mixed7')\n",
        "print('last layer output shape: ', last_layer.output_shape)\n",
        "last_output = last_layer.output"
      ],
      "execution_count": 1,
      "outputs": [
        {
          "output_type": "stream",
          "text": [
            "--2019-06-04 05:33:44--  https://storage.googleapis.com/mledu-datasets/inception_v3_weights_tf_dim_ordering_tf_kernels_notop.h5\n",
            "Resolving storage.googleapis.com (storage.googleapis.com)... 108.177.119.128, 2a00:1450:4013:c01::80\n",
            "Connecting to storage.googleapis.com (storage.googleapis.com)|108.177.119.128|:443... connected.\n",
            "HTTP request sent, awaiting response... 200 OK\n",
            "Length: 87910968 (84M) [application/x-hdf]\n",
            "Saving to: ‘/tmp/inception_v3_weights_tf_dim_ordering_tf_kernels_notop.h5’\n",
            "\n",
            "/tmp/inception_v3_w 100%[===================>]  83.84M  49.5MB/s    in 1.7s    \n",
            "\n",
            "2019-06-04 05:33:47 (49.5 MB/s) - ‘/tmp/inception_v3_weights_tf_dim_ordering_tf_kernels_notop.h5’ saved [87910968/87910968]\n",
            "\n",
            "WARNING:tensorflow:From /usr/local/lib/python2.7/dist-packages/tensorflow/python/ops/resource_variable_ops.py:435: colocate_with (from tensorflow.python.framework.ops) is deprecated and will be removed in a future version.\n",
            "Instructions for updating:\n",
            "Colocations handled automatically by placer.\n",
            "('last layer output shape: ', (None, 7, 7, 768))\n"
          ],
          "name": "stdout"
        }
      ]
    },
    {
      "cell_type": "code",
      "metadata": {
        "colab_type": "code",
        "id": "BMXb913pbvFg",
        "colab": {
          "base_uri": "https://localhost:8080/",
          "height": 88
        },
        "outputId": "ce8369b7-52e6-44ec-f571-6659f1f3c2f6"
      },
      "source": [
        "from tensorflow.keras.optimizers import RMSprop\n",
        "\n",
        "# Flatten the output layer to 1 dimension\n",
        "x = layers.Flatten()(last_output)\n",
        "# Add a fully connected layer with 1,024 hidden units and ReLU activation\n",
        "x = layers.Dense(1024, activation='relu')(x)\n",
        "# Add a dropout rate of 0.2\n",
        "x = layers.Dropout(0.2)(x)                  \n",
        "# Add a final sigmoid layer for classification\n",
        "x = layers.Dense  (1, activation='sigmoid')(x)           \n",
        "\n",
        "model = Model( pre_trained_model.input, x) \n",
        "\n",
        "model.compile(optimizer = RMSprop(lr=0.0001), \n",
        "              loss = 'binary_crossentropy', \n",
        "              metrics = ['acc'])\n"
      ],
      "execution_count": 2,
      "outputs": [
        {
          "output_type": "stream",
          "text": [
            "WARNING:tensorflow:From /usr/local/lib/python2.7/dist-packages/tensorflow/python/keras/layers/core.py:143: calling dropout (from tensorflow.python.ops.nn_ops) with keep_prob is deprecated and will be removed in a future version.\n",
            "Instructions for updating:\n",
            "Please use `rate` instead of `keep_prob`. Rate should be set to `rate = 1 - keep_prob`.\n"
          ],
          "name": "stdout"
        }
      ]
    },
    {
      "cell_type": "code",
      "metadata": {
        "colab_type": "code",
        "id": "O4s8HckqGlnb",
        "outputId": "e4c503cb-2e24-4c55-e578-aa6d953d5d9c",
        "colab": {
          "base_uri": "https://localhost:8080/",
          "height": 238
        }
      },
      "source": [
        "!wget --no-check-certificate \\\n",
        "        https://storage.googleapis.com/mledu-datasets/cats_and_dogs_filtered.zip \\\n",
        "       -O /tmp/cats_and_dogs_filtered.zip\n",
        "\n",
        "from tensorflow.keras.preprocessing.image import ImageDataGenerator\n",
        "\n",
        "import os\n",
        "import zipfile\n",
        "\n",
        "local_zip = '//tmp/cats_and_dogs_filtered.zip'\n",
        "\n",
        "zip_ref = zipfile.ZipFile(local_zip, 'r')\n",
        "\n",
        "zip_ref.extractall('/tmp')\n",
        "zip_ref.close()\n",
        "\n",
        "# Define our example directories and files\n",
        "base_dir = '/tmp/cats_and_dogs_filtered'\n",
        "\n",
        "train_dir = os.path.join( base_dir, 'train')\n",
        "validation_dir = os.path.join( base_dir, 'validation')\n",
        "\n",
        "\n",
        "train_cats_dir = os.path.join(train_dir, 'cats') # Directory with our training cat pictures\n",
        "train_dogs_dir = os.path.join(train_dir, 'dogs') # Directory with our training dog pictures\n",
        "validation_cats_dir = os.path.join(validation_dir, 'cats') # Directory with our validation cat pictures\n",
        "validation_dogs_dir = os.path.join(validation_dir, 'dogs')# Directory with our validation dog pictures\n",
        "\n",
        "train_cat_fnames = os.listdir(train_cats_dir)\n",
        "train_dog_fnames = os.listdir(train_dogs_dir)\n",
        "\n",
        "# Add our data-augmentation parameters to ImageDataGenerator\n",
        "train_datagen = ImageDataGenerator(rescale = 1./255.,\n",
        "                                   rotation_range = 40,\n",
        "                                   width_shift_range = 0.2,\n",
        "                                   height_shift_range = 0.2,\n",
        "                                   shear_range = 0.2,\n",
        "                                   zoom_range = 0.2,\n",
        "                                   horizontal_flip = True)\n",
        "\n",
        "# Note that the validation data should not be augmented!\n",
        "test_datagen = ImageDataGenerator( rescale = 1.0/255. )\n",
        "\n",
        "# Flow training images in batches of 20 using train_datagen generator\n",
        "train_generator = train_datagen.flow_from_directory(train_dir,\n",
        "                                                    batch_size = 20,\n",
        "                                                    class_mode = 'binary', \n",
        "                                                    target_size = (150, 150))     \n",
        "\n",
        "# Flow validation images in batches of 20 using test_datagen generator\n",
        "validation_generator =  test_datagen.flow_from_directory( validation_dir,\n",
        "                                                          batch_size  = 20,\n",
        "                                                          class_mode  = 'binary', \n",
        "                                                          target_size = (150, 150))"
      ],
      "execution_count": 3,
      "outputs": [
        {
          "output_type": "stream",
          "text": [
            "--2019-06-04 05:36:03--  https://storage.googleapis.com/mledu-datasets/cats_and_dogs_filtered.zip\n",
            "Resolving storage.googleapis.com (storage.googleapis.com)... 172.217.218.128, 2a00:1450:4013:c03::80\n",
            "Connecting to storage.googleapis.com (storage.googleapis.com)|172.217.218.128|:443... connected.\n",
            "HTTP request sent, awaiting response... 200 OK\n",
            "Length: 68606236 (65M) [application/zip]\n",
            "Saving to: ‘/tmp/cats_and_dogs_filtered.zip’\n",
            "\n",
            "/tmp/cats_and_dogs_ 100%[===================>]  65.43M  62.1MB/s    in 1.1s    \n",
            "\n",
            "2019-06-04 05:36:04 (62.1 MB/s) - ‘/tmp/cats_and_dogs_filtered.zip’ saved [68606236/68606236]\n",
            "\n",
            "Found 2000 images belonging to 2 classes.\n",
            "Found 1000 images belonging to 2 classes.\n"
          ],
          "name": "stdout"
        }
      ]
    },
    {
      "cell_type": "code",
      "metadata": {
        "colab_type": "code",
        "id": "Blhq2MAUeyGA",
        "outputId": "e7b765ba-3ac3-4892-d4c4-a6fa25d0e06b",
        "colab": {
          "base_uri": "https://localhost:8080/",
          "height": 1088
        }
      },
      "source": [
        "history = model.fit_generator(\n",
        "            train_generator,\n",
        "            validation_data = validation_generator,\n",
        "            steps_per_epoch = 100,\n",
        "            epochs = 20,\n",
        "            validation_steps = 50,\n",
        "            verbose = 2)"
      ],
      "execution_count": 4,
      "outputs": [
        {
          "output_type": "stream",
          "text": [
            "WARNING:tensorflow:From /usr/local/lib/python2.7/dist-packages/tensorflow/python/ops/math_ops.py:3066: to_int32 (from tensorflow.python.ops.math_ops) is deprecated and will be removed in a future version.\n",
            "Instructions for updating:\n",
            "Use tf.cast instead.\n",
            "Epoch 1/20\n",
            "50/50 [==============================] - 5s 100ms/step - loss: 0.1970 - acc: 0.9410\n",
            " - 24s - loss: 0.5096 - acc: 0.7535 - val_loss: 0.1970 - val_acc: 0.9410\n",
            "Epoch 2/20\n",
            "50/50 [==============================] - 5s 96ms/step - loss: 0.2850 - acc: 0.9380\n",
            " - 19s - loss: 0.3893 - acc: 0.8185 - val_loss: 0.2850 - val_acc: 0.9380\n",
            "Epoch 3/20\n",
            "50/50 [==============================] - 5s 94ms/step - loss: 0.5641 - acc: 0.8980\n",
            " - 19s - loss: 0.3371 - acc: 0.8520 - val_loss: 0.5641 - val_acc: 0.8980\n",
            "Epoch 4/20\n",
            "50/50 [==============================] - 5s 93ms/step - loss: 0.4916 - acc: 0.9180\n",
            " - 19s - loss: 0.3016 - acc: 0.8780 - val_loss: 0.4916 - val_acc: 0.9180\n",
            "Epoch 5/20\n",
            "50/50 [==============================] - 5s 93ms/step - loss: 0.3447 - acc: 0.9430\n",
            " - 19s - loss: 0.3349 - acc: 0.8575 - val_loss: 0.3447 - val_acc: 0.9430\n",
            "Epoch 6/20\n",
            "50/50 [==============================] - 5s 93ms/step - loss: 0.4218 - acc: 0.9410\n",
            " - 19s - loss: 0.2904 - acc: 0.8795 - val_loss: 0.4218 - val_acc: 0.9410\n",
            "Epoch 7/20\n",
            "50/50 [==============================] - 5s 92ms/step - loss: 0.3730 - acc: 0.9420\n",
            " - 19s - loss: 0.3043 - acc: 0.8730 - val_loss: 0.3730 - val_acc: 0.9420\n",
            "Epoch 8/20\n",
            "50/50 [==============================] - 5s 93ms/step - loss: 0.7212 - acc: 0.9050\n",
            " - 19s - loss: 0.2707 - acc: 0.8960 - val_loss: 0.7212 - val_acc: 0.9050\n",
            "Epoch 9/20\n",
            "50/50 [==============================] - 5s 91ms/step - loss: 0.3018 - acc: 0.9590\n",
            " - 19s - loss: 0.3099 - acc: 0.8735 - val_loss: 0.3018 - val_acc: 0.9590\n",
            "Epoch 10/20\n",
            "50/50 [==============================] - 5s 92ms/step - loss: 0.2849 - acc: 0.9590\n",
            " - 19s - loss: 0.2943 - acc: 0.8835 - val_loss: 0.2849 - val_acc: 0.9590\n",
            "Epoch 11/20\n",
            "50/50 [==============================] - 5s 91ms/step - loss: 0.3664 - acc: 0.9460\n",
            " - 19s - loss: 0.2712 - acc: 0.8870 - val_loss: 0.3664 - val_acc: 0.9460\n",
            "Epoch 12/20\n",
            "50/50 [==============================] - 4s 90ms/step - loss: 0.3531 - acc: 0.9510\n",
            " - 19s - loss: 0.2751 - acc: 0.8955 - val_loss: 0.3531 - val_acc: 0.9510\n",
            "Epoch 13/20\n",
            "50/50 [==============================] - 5s 91ms/step - loss: 0.4514 - acc: 0.9420\n",
            " - 19s - loss: 0.2723 - acc: 0.8880 - val_loss: 0.4514 - val_acc: 0.9420\n",
            "Epoch 14/20\n",
            "50/50 [==============================] - 5s 91ms/step - loss: 0.7044 - acc: 0.9210\n",
            " - 19s - loss: 0.2728 - acc: 0.8920 - val_loss: 0.7044 - val_acc: 0.9210\n",
            "Epoch 15/20\n",
            "50/50 [==============================] - 5s 93ms/step - loss: 0.3919 - acc: 0.9540\n",
            " - 19s - loss: 0.2557 - acc: 0.8920 - val_loss: 0.3919 - val_acc: 0.9540\n",
            "Epoch 16/20\n",
            "50/50 [==============================] - 5s 93ms/step - loss: 0.3416 - acc: 0.9590\n",
            " - 19s - loss: 0.2483 - acc: 0.8975 - val_loss: 0.3416 - val_acc: 0.9590\n",
            "Epoch 17/20\n",
            "50/50 [==============================] - 5s 91ms/step - loss: 0.3787 - acc: 0.9560\n",
            " - 19s - loss: 0.2308 - acc: 0.9085 - val_loss: 0.3787 - val_acc: 0.9560\n",
            "Epoch 18/20\n",
            "50/50 [==============================] - 5s 92ms/step - loss: 0.4923 - acc: 0.9420\n",
            " - 19s - loss: 0.2396 - acc: 0.9065 - val_loss: 0.4923 - val_acc: 0.9420\n",
            "Epoch 19/20\n",
            "50/50 [==============================] - 5s 92ms/step - loss: 0.3561 - acc: 0.9550\n",
            " - 18s - loss: 0.2592 - acc: 0.8955 - val_loss: 0.3561 - val_acc: 0.9550\n",
            "Epoch 20/20\n",
            "50/50 [==============================] - 5s 94ms/step - loss: 0.5434 - acc: 0.9360\n",
            " - 19s - loss: 0.2322 - acc: 0.9120 - val_loss: 0.5434 - val_acc: 0.9360\n"
          ],
          "name": "stdout"
        }
      ]
    },
    {
      "cell_type": "code",
      "metadata": {
        "id": "C2Fp6Se9rKuL",
        "colab_type": "code",
        "outputId": "011dc628-f5c1-4b7b-cd9d-907d6c673f66",
        "colab": {
          "base_uri": "https://localhost:8080/",
          "height": 298
        }
      },
      "source": [
        "import matplotlib.pyplot as plt\n",
        "acc = history.history['acc']\n",
        "val_acc = history.history['val_acc']\n",
        "loss = history.history['loss']\n",
        "val_loss = history.history['val_loss']\n",
        "\n",
        "epochs = range(len(acc))\n",
        "\n",
        "plt.plot(epochs, acc, 'r', label='Training accuracy')\n",
        "plt.plot(epochs, val_acc, 'b', label='Validation accuracy')\n",
        "plt.title('Training and validation accuracy')\n",
        "plt.legend(loc=0)\n",
        "plt.figure()\n",
        "\n",
        "\n",
        "plt.show()"
      ],
      "execution_count": 5,
      "outputs": [
        {
          "output_type": "display_data",
          "data": {
            "image/png": "[encoded data removed]",
            "text/plain": [
              "<Figure size 432x288 with 1 Axes>"
            ]
          },
          "metadata": {
            "tags": []
          }
        },
        {
          "output_type": "display_data",
          "data": {
            "text/plain": [
              "<Figure size 432x288 with 0 Axes>"
            ]
          },
          "metadata": {
            "tags": []
          }
        }
      ]
    }
  ]
}